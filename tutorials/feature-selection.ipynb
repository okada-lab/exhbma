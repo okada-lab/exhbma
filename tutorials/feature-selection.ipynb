{
 "cells": [
  {
   "cell_type": "markdown",
   "id": "6a973330",
   "metadata": {},
   "source": [
    "See also [Linear Regression section](https://exhbma.readthedocs.io/en/latest/linear_regression.html) in the documentation."
   ]
  },
  {
   "cell_type": "code",
   "execution_count": 1,
   "id": "ccdcdb55",
   "metadata": {},
   "outputs": [],
   "source": [
    "import logging\n",
    "\n",
    "import numpy as np\n",
    "\n",
    "from exhbma import (\n",
    "    ExhaustiveLinearRegression,\n",
    "    gamma,\n",
    "    StandardScaler,\n",
    "    feature_posterior,\n",
    "    weight_diagram,\n",
    "    sigma_posterior,\n",
    ")"
   ]
  },
  {
   "cell_type": "code",
   "execution_count": 2,
   "id": "cbc52c77",
   "metadata": {},
   "outputs": [],
   "source": [
    "log_level = logging.INFO\n",
    "logger = logging.getLogger(__name__)\n",
    "logger.propagate = False\n",
    "handler = logging.StreamHandler()\n",
    "handler_format = logging.Formatter(\n",
    "    fmt=\"%(levelname)s %(asctime)s [%(name)s]: %(message)s\",\n",
    "    datefmt=\"%Y-%m-%dT%H:%M:%S%z\",\n",
    ")\n",
    "handler.setFormatter(handler_format)\n",
    "handler.setLevel(log_level)\n",
    "logger.setLevel(log_level)\n",
    "logger.addHandler(handler)"
   ]
  },
  {
   "cell_type": "markdown",
   "id": "f383afba",
   "metadata": {},
   "source": [
    "# Generate sample dataset"
   ]
  },
  {
   "cell_type": "code",
   "execution_count": 3,
   "id": "199a601e",
   "metadata": {},
   "outputs": [],
   "source": [
    "n_data, n_features = 50, 10\n",
    "sigma_noise = 0.1\n",
    "\n",
    "nonzero_w = [1, 1, -0.8, 0.5]\n",
    "w = nonzero_w + [0] * (n_features - len(nonzero_w))\n",
    "\n",
    "np.random.seed(0)\n",
    "X = np.random.randn(n_data, n_features)\n",
    "y = np.dot(X, w) + sigma_noise * np.random.randn(n_data)"
   ]
  },
  {
   "cell_type": "markdown",
   "id": "6613edfb",
   "metadata": {},
   "source": [
    "# Train a model"
   ]
  },
  {
   "cell_type": "code",
   "execution_count": 4,
   "id": "dc2b8b9c",
   "metadata": {},
   "outputs": [],
   "source": [
    "# Data preprocessing\n",
    "x_scaler = StandardScaler(n_dim=2)\n",
    "y_scaler = StandardScaler(n_dim=1, scaling=False)\n",
    "x_scaler.fit(X)\n",
    "y_scaler.fit(y)\n",
    "X = x_scaler.transform(X)\n",
    "y = y_scaler.transform(y)"
   ]
  },
  {
   "cell_type": "code",
   "execution_count": null,
   "id": "40725f7c",
   "metadata": {},
   "outputs": [
    {
     "name": "stderr",
     "output_type": "stream",
     "text": [
      " 63%|██████▎   | 648/1023 [00:28<00:15, 24.04it/s]"
     ]
    }
   ],
   "source": [
    "# Settings of prior distributions for sigma_noise and sigma_coef\n",
    "n_sigma_points = 20\n",
    "sigma_noise_log_range = [-2.5, 0.5]\n",
    "sigma_coef_log_range = [-2, 1]\n",
    "\n",
    "# Model fitting\n",
    "reg = ExhaustiveLinearRegression(\n",
    "    sigma_noise_points=gamma(\n",
    "        np.logspace(sigma_noise_log_range[0], sigma_noise_log_range[1], n_sigma_points),\n",
    "    ),\n",
    "    sigma_coef_points=gamma(\n",
    "        np.logspace(sigma_coef_log_range[0], sigma_coef_log_range[1], n_sigma_points),\n",
    "    ),\n",
    ")\n",
    "reg.fit(X, y)"
   ]
  },
  {
   "cell_type": "markdown",
   "id": "5ce3e9c0",
   "metadata": {},
   "source": [
    "# Results"
   ]
  },
  {
   "cell_type": "code",
   "execution_count": null,
   "id": "4cd0e21a",
   "metadata": {},
   "outputs": [],
   "source": [
    "columns = [f\"feat: {i}\" for i in range(n_features)]"
   ]
  },
  {
   "cell_type": "markdown",
   "id": "d6efe27b",
   "metadata": {},
   "source": [
    "## Feature posterior"
   ]
  },
  {
   "cell_type": "code",
   "execution_count": null,
   "id": "7cfb58ad",
   "metadata": {},
   "outputs": [],
   "source": [
    "fig, ax = feature_posterior(\n",
    "    model=reg,\n",
    "    title=\"Feature Posterior Probability\",\n",
    "    ylabel=\"Probability\",\n",
    "    xticklabels=columns,\n",
    ")"
   ]
  },
  {
   "cell_type": "markdown",
   "id": "1ed8fcf3",
   "metadata": {},
   "source": [
    "## Sigma posterior distribution"
   ]
  },
  {
   "cell_type": "code",
   "execution_count": null,
   "id": "c5ddee12",
   "metadata": {},
   "outputs": [],
   "source": [
    "fig, ax = sigma_posterior(\n",
    "    model=reg,\n",
    "    title=\"Log Posterior over ($\\sigma_{w}$, $\\sigma_{\\epsilon}$)\",\n",
    "    xlabel=\"$\\sigma_{w}$\",\n",
    "    ylabel=\"$\\sigma_{\\epsilon}$\",\n",
    "    cbarlabel=\"Log Likelihood\",\n",
    ")"
   ]
  },
  {
   "cell_type": "markdown",
   "id": "b400a2a8",
   "metadata": {},
   "source": [
    "## Coefficient"
   ]
  },
  {
   "cell_type": "code",
   "execution_count": null,
   "id": "12f0dd04",
   "metadata": {},
   "outputs": [],
   "source": [
    "for i, c in enumerate(reg.coef_):\n",
    "    logger.info(f\"Coefficient of feature {i}: {c:.4f}\")"
   ]
  },
  {
   "cell_type": "markdown",
   "id": "91c26094",
   "metadata": {},
   "source": [
    "## Weight diagram"
   ]
  },
  {
   "cell_type": "code",
   "execution_count": null,
   "id": "a226f4c4",
   "metadata": {},
   "outputs": [],
   "source": [
    "fig, ax = weight_diagram(\n",
    "    model=reg,\n",
    "    yticklabels=columns,\n",
    "    title=\"Weight Diagram\",\n",
    "    cbarlabel=\"Coefficient\",\n",
    ")"
   ]
  },
  {
   "cell_type": "markdown",
   "id": "dfedb4d2",
   "metadata": {},
   "source": [
    "# Prediction for new data"
   ]
  },
  {
   "cell_type": "code",
   "execution_count": null,
   "id": "7633abd5",
   "metadata": {},
   "outputs": [],
   "source": [
    "n_test = 10**3\n",
    "\n",
    "np.random.seed(10)\n",
    "test_X = np.random.randn(n_test, n_features)\n",
    "test_y = np.dot(test_X, w) + sigma_noise * np.random.randn(n_test)"
   ]
  },
  {
   "cell_type": "code",
   "execution_count": null,
   "id": "59a622b5",
   "metadata": {},
   "outputs": [],
   "source": [
    "# RMSE for test data\n",
    "\n",
    "pred_y = y_scaler.restore(\n",
    "    reg.predict(x_scaler.transform(test_X), mode=\"full\")\n",
    ")\n",
    "rmse = np.power(test_y - pred_y, 2).mean() ** 0.5\n",
    "logger.info(f\"RMSE for test data: {rmse:.4f}\")"
   ]
  }
 ],
 "metadata": {
  "kernelspec": {
   "display_name": "Python 3 (ipykernel)",
   "language": "python",
   "name": "python3"
  },
  "language_info": {
   "codemirror_mode": {
    "name": "ipython",
    "version": 3
   },
   "file_extension": ".py",
   "mimetype": "text/x-python",
   "name": "python",
   "nbconvert_exporter": "python",
   "pygments_lexer": "ipython3",
   "version": "3.9.9"
  },
  "toc": {
   "base_numbering": 1,
   "nav_menu": {},
   "number_sections": true,
   "sideBar": true,
   "skip_h1_title": false,
   "title_cell": "Table of Contents",
   "title_sidebar": "Contents",
   "toc_cell": false,
   "toc_position": {
    "height": "calc(100% - 180px)",
    "left": "10px",
    "top": "150px",
    "width": "230.594px"
   },
   "toc_section_display": true,
   "toc_window_display": true
  }
 },
 "nbformat": 4,
 "nbformat_minor": 5
}
