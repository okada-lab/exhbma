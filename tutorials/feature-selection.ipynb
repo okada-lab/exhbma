{
 "cells": [
  {
   "cell_type": "code",
   "execution_count": 1,
   "id": "ccdcdb55",
   "metadata": {},
   "outputs": [],
   "source": [
    "import logging\n",
    "\n",
    "import numpy as np\n",
    "from matplotlib import pyplot as plt\n",
    "\n",
    "from exhbma import (\n",
    "    ExhaustiveLinearRegression,\n",
    "    BetaDistributionParams,\n",
    "    gamma,\n",
    "    StandardScaler,\n",
    "    feature_posterior,\n",
    "    weight_diagram,\n",
    "    sigma_posterior,\n",
    "    __version__,\n",
    ")"
   ]
  },
  {
   "cell_type": "code",
   "execution_count": 2,
   "id": "cbc52c77",
   "metadata": {},
   "outputs": [],
   "source": [
    "log_level = logging.INFO\n",
    "logger = logging.getLogger(__name__)\n",
    "logger.propagate = False\n",
    "handler = logging.StreamHandler()\n",
    "handler_format = logging.Formatter(\n",
    "    fmt=\"%(levelname)s %(asctime)s [%(name)s]: %(message)s\",\n",
    "    datefmt=\"%Y-%m-%dT%H:%M:%S%z\",\n",
    ")\n",
    "handler.setFormatter(handler_format)\n",
    "handler.setLevel(log_level)\n",
    "logger.setLevel(log_level)\n",
    "logger.addHandler(handler)"
   ]
  },
  {
   "cell_type": "markdown",
   "id": "f383afba",
   "metadata": {},
   "source": [
    "# Generate dataset"
   ]
  },
  {
   "cell_type": "code",
   "execution_count": 3,
   "id": "199a601e",
   "metadata": {},
   "outputs": [],
   "source": [
    "n_data, n_features = 50, 10\n",
    "sigma_noise = 0.1\n",
    "n_test = 10**3\n",
    "\n",
    "np.random.seed(0)\n",
    "X = np.random.randn(n_data, n_features)\n",
    "nonzero_w = [1, 1, -0.8, 0.5]\n",
    "w = nonzero_w + [0] * (n_features - len(nonzero_w))\n",
    "y = np.dot(X, w) + sigma_noise * np.random.randn(n_data)\n",
    "test_X = np.random.randn(n_test, n_features)\n",
    "test_y = np.dot(test_X, w) + sigma_noise * np.random.randn(n_test)"
   ]
  },
  {
   "cell_type": "markdown",
   "id": "6613edfb",
   "metadata": {},
   "source": [
    "# Model training"
   ]
  },
  {
   "cell_type": "code",
   "execution_count": null,
   "id": "40725f7c",
   "metadata": {},
   "outputs": [
    {
     "name": "stderr",
     "output_type": "stream",
     "text": [
      "  8%|▊         | 81/1023 [00:03<00:37, 25.28it/s]"
     ]
    }
   ],
   "source": [
    "n_sigma_points = 20\n",
    "sigma_noise_min_order = -2.5\n",
    "sigma_noise_max_order = 0.5\n",
    "sigma_coef_min_order = -2\n",
    "sigma_coef_max_order = 1\n",
    "gamma_shape = 1e-3\n",
    "gamma_scale = 1e3\n",
    "fixed_alpha = 0.5\n",
    "\n",
    "\n",
    "# Data preprocessing\n",
    "x_scaler = StandardScaler(n_dim=2)\n",
    "y_scaler = StandardScaler(n_dim=1, scaling=False)\n",
    "x_scaler.fit(X)\n",
    "y_scaler.fit(y)\n",
    "X = x_scaler.transform(X)\n",
    "y = y_scaler.transform(y)\n",
    "\n",
    "# Model fitting\n",
    "reg = ExhaustiveLinearRegression(\n",
    "    sigma_noise_points=gamma(\n",
    "        np.logspace(sigma_noise_min_order, sigma_noise_max_order, n_sigma_points),\n",
    "        low=10 ** sigma_noise_min_order,\n",
    "        high=10 ** sigma_noise_max_order,\n",
    "        shape=gamma_shape,\n",
    "        scale=gamma_scale,\n",
    "    ),\n",
    "    sigma_coef_points=gamma(\n",
    "        np.logspace(sigma_coef_min_order, sigma_coef_max_order, n_sigma_points),\n",
    "        low=10 ** sigma_coef_min_order,\n",
    "        high=10 ** sigma_coef_max_order,\n",
    "        shape=gamma_shape,\n",
    "        scale=gamma_scale,\n",
    "    ),\n",
    "    alpha_params=fixed_alpha,\n",
    ")\n",
    "reg.fit(X, y)"
   ]
  },
  {
   "cell_type": "markdown",
   "id": "5ce3e9c0",
   "metadata": {},
   "source": [
    "# Result"
   ]
  },
  {
   "cell_type": "markdown",
   "id": "4fd27184",
   "metadata": {},
   "source": [
    "## Coefficient"
   ]
  },
  {
   "cell_type": "code",
   "execution_count": null,
   "id": "e8f13f29",
   "metadata": {},
   "outputs": [],
   "source": [
    "for i, c in enumerate(reg.coef_):\n",
    "    logger.info(f\"Coefficient of feature {i}: {c:.4f}\")"
   ]
  },
  {
   "cell_type": "markdown",
   "id": "dc5cd489",
   "metadata": {},
   "source": [
    "## RMSE"
   ]
  },
  {
   "cell_type": "code",
   "execution_count": null,
   "id": "e0c988c8",
   "metadata": {},
   "outputs": [],
   "source": [
    "pred_y = y_scaler.restore(\n",
    "    reg.predict(x_scaler.transform(test_X), mode=\"full\")\n",
    ")\n",
    "rmse = np.power(test_y - pred_y, 2).mean() ** 0.5\n",
    "logger.info(f\"RMSE for test data: {rmse:.4f}\")"
   ]
  },
  {
   "cell_type": "markdown",
   "id": "ca6434ae",
   "metadata": {},
   "source": [
    "## Plot"
   ]
  },
  {
   "cell_type": "code",
   "execution_count": null,
   "id": "4cd0e21a",
   "metadata": {},
   "outputs": [],
   "source": [
    "columns = [f\"feat: {i}\" for i in range(n_features)]"
   ]
  },
  {
   "cell_type": "markdown",
   "id": "d6efe27b",
   "metadata": {},
   "source": [
    "### Feature posterior"
   ]
  },
  {
   "cell_type": "code",
   "execution_count": null,
   "id": "7cfb58ad",
   "metadata": {},
   "outputs": [],
   "source": [
    "fig, ax = feature_posterior(\n",
    "    model=reg,\n",
    "    title=\"Feature Posterior Probability\",\n",
    "    ylabel=\"Probability\",\n",
    "    xticklabels=columns,\n",
    ")"
   ]
  },
  {
   "cell_type": "markdown",
   "id": "1ebbc50d",
   "metadata": {},
   "source": [
    "### Weight diagram"
   ]
  },
  {
   "cell_type": "code",
   "execution_count": null,
   "id": "dc6625ba",
   "metadata": {},
   "outputs": [],
   "source": [
    "fig, ax = weight_diagram(\n",
    "    model=reg,\n",
    "    yticklabels=columns,\n",
    "    title=\"Weight Diagram\",\n",
    "    cbarlabel=\"Coefficient\",\n",
    ")"
   ]
  },
  {
   "cell_type": "markdown",
   "id": "1ed8fcf3",
   "metadata": {},
   "source": [
    "### Sigma posterior"
   ]
  },
  {
   "cell_type": "code",
   "execution_count": null,
   "id": "c5ddee12",
   "metadata": {},
   "outputs": [],
   "source": [
    "fig, ax = sigma_posterior(\n",
    "    model=reg,\n",
    "    title=\"Log Posterior over ($\\sigma_{w}$, $\\sigma_{\\epsilon}$)\",\n",
    "    xlabel=\"$\\sigma_{w}$\",\n",
    "    ylabel=\"$\\sigma_{\\epsilon}$\",\n",
    "    cbarlabel=\"Log Likelihood\",\n",
    ")"
   ]
  }
 ],
 "metadata": {
  "kernelspec": {
   "display_name": "Python 3 (ipykernel)",
   "language": "python",
   "name": "python3"
  },
  "language_info": {
   "codemirror_mode": {
    "name": "ipython",
    "version": 3
   },
   "file_extension": ".py",
   "mimetype": "text/x-python",
   "name": "python",
   "nbconvert_exporter": "python",
   "pygments_lexer": "ipython3",
   "version": "3.9.9"
  },
  "toc": {
   "base_numbering": 1,
   "nav_menu": {},
   "number_sections": true,
   "sideBar": true,
   "skip_h1_title": false,
   "title_cell": "Table of Contents",
   "title_sidebar": "Contents",
   "toc_cell": false,
   "toc_position": {
    "height": "calc(100% - 180px)",
    "left": "10px",
    "top": "150px",
    "width": "230.594px"
   },
   "toc_section_display": true,
   "toc_window_display": true
  }
 },
 "nbformat": 4,
 "nbformat_minor": 5
}
